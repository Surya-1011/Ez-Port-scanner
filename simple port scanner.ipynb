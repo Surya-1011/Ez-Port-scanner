{
 "cells": [
  {
   "cell_type": "code",
   "execution_count": null,
   "id": "7b3b9524",
   "metadata": {},
   "outputs": [],
   "source": [
    "\n",
    "import socket\n",
    "\n",
    "def scan(target, ports):\n",
    "\tprint('\\n' + ' Starting Scan For ' + str(target))\n",
    "\tfor port in range(1,ports):\n",
    "\t\tscan_port(target,port)\n",
    "\n",
    "\n",
    "def scan_port(ipaddress, port):\n",
    "\ttry:\n",
    "\t\tsock = socket.socket()\n",
    "\t\tsock.connect((ipaddress, port))\n",
    "\t\tprint(\"[+] Port Opened \" + str(port))\n",
    "\t\tsock.close()\n",
    "\texcept:\n",
    "\t\tpass\n",
    "\n",
    "\n",
    "targets = input(\"[*] Enter Targets To Scan(split them by ,): \")\n",
    "ports = int(input(\"[*] Enter How Many Ports You Want To Scan: \"))\n",
    "if ',' in targets:\n",
    "\tprint(\"[*] Scanning Multiple Targets\")\n",
    "\tfor ip_addr in targets.split(','):\n",
    "\t\tscan(ip_addr.strip(' '), ports)\n",
    "else:\n",
    "\tscan(targets,ports)"
   ]
  },
  {
   "cell_type": "code",
   "execution_count": null,
   "id": "4e700cb3",
   "metadata": {},
   "outputs": [],
   "source": []
  }
 ],
 "metadata": {
  "kernelspec": {
   "display_name": "Python 3",
   "language": "python",
   "name": "python3"
  },
  "language_info": {
   "codemirror_mode": {
    "name": "ipython",
    "version": 3
   },
   "file_extension": ".py",
   "mimetype": "text/x-python",
   "name": "python",
   "nbconvert_exporter": "python",
   "pygments_lexer": "ipython3",
   "version": "3.8.8"
  }
 },
 "nbformat": 4,
 "nbformat_minor": 5
}
